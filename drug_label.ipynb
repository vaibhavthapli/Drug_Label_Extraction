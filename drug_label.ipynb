{
 "cells": [
  {
   "metadata": {},
   "cell_type": "markdown",
   "source": "# 1.Install and Import Dependencies",
   "id": "6c5fe98702c16232"
  },
  {
   "metadata": {},
   "cell_type": "markdown",
   "source": [
    "#install of paddle\n",
    "\n",
    "!pip install paddlepaddle\n",
    "\n",
    "#install paddleocr\n",
    "\n",
    "pip install paddleocr"
   ],
   "id": "25a06087cb0dd183"
  },
  {
   "metadata": {},
   "cell_type": "code",
   "outputs": [],
   "execution_count": null,
   "source": "",
   "id": "5b332109fd7237ec"
  },
  {
   "metadata": {
    "ExecuteTime": {
     "end_time": "2024-09-27T13:03:34.179146Z",
     "start_time": "2024-09-27T13:03:34.166181Z"
    }
   },
   "cell_type": "code",
   "source": "",
   "id": "dd99fa64cfdececd",
   "outputs": [],
   "execution_count": null
  },
  {
   "metadata": {},
   "cell_type": "code",
   "outputs": [],
   "execution_count": null,
   "source": "",
   "id": "f21558c1e0a46a00"
  },
  {
   "metadata": {},
   "cell_type": "code",
   "outputs": [],
   "execution_count": null,
   "source": "",
   "id": "10750c7ba938ceb6"
  },
  {
   "metadata": {},
   "cell_type": "code",
   "outputs": [],
   "execution_count": null,
   "source": "",
   "id": "bae4c0e941022ef3"
  }
 ],
 "metadata": {
  "kernelspec": {
   "display_name": "du",
   "language": "python",
   "name": "du"
  },
  "language_info": {
   "codemirror_mode": {
    "name": "ipython",
    "version": 2
   },
   "file_extension": ".py",
   "mimetype": "text/x-python",
   "name": "python",
   "nbconvert_exporter": "python",
   "pygments_lexer": "ipython2",
   "version": "2.7.6"
  }
 },
 "nbformat": 4,
 "nbformat_minor": 5
}
