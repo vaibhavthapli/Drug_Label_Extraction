{
 "cells": [
  {
   "metadata": {},
   "cell_type": "markdown",
   "source": "# 1.Install and Import Dependencies",
   "id": "6c5fe98702c16232"
  },
  {
   "metadata": {},
   "cell_type": "markdown",
   "source": [
    "#install of paddle\n",
    "\n",
    "!pip install paddlepaddle\n",
    "\n",
    "#install paddleocr\n",
    "\n",
    "pip install paddleocr"
   ],
   "id": "25a06087cb0dd183"
  },
  {
   "metadata": {
    "ExecuteTime": {
     "end_time": "2024-09-27T13:24:04.688774Z",
     "start_time": "2024-09-27T13:22:19.761661Z"
    }
   },
   "cell_type": "code",
   "source": [
    "# Clone paddle OCR repo - get FONTS for visualization\n",
    "!git clone https://github.com/PaddlePaddle/PaddleOCR"
   ],
   "id": "5b332109fd7237ec",
   "outputs": [
    {
     "name": "stderr",
     "output_type": "stream",
     "text": [
      "Cloning into 'PaddleOCR'...\n",
      "Updating files:  34% (823/2391)\n",
      "Updating files:  35% (837/2391)\n",
      "Updating files:  36% (861/2391)\n",
      "Updating files:  37% (885/2391)\n",
      "Updating files:  38% (909/2391)\n",
      "Updating files:  39% (933/2391)\n",
      "Updating files:  40% (957/2391)\n",
      "Updating files:  41% (981/2391)\n",
      "Updating files:  42% (1005/2391)\n",
      "Updating files:  42% (1010/2391)\n",
      "Updating files:  43% (1029/2391)\n",
      "Updating files:  44% (1053/2391)\n",
      "Updating files:  45% (1076/2391)\n",
      "Updating files:  46% (1100/2391)\n",
      "Updating files:  47% (1124/2391)\n",
      "Updating files:  48% (1148/2391)\n",
      "Updating files:  49% (1172/2391)\n",
      "Updating files:  50% (1196/2391)\n",
      "Updating files:  51% (1220/2391)\n",
      "Updating files:  52% (1244/2391)\n",
      "Updating files:  53% (1268/2391)\n",
      "Updating files:  54% (1292/2391)\n",
      "Updating files:  55% (1316/2391)\n",
      "Updating files:  56% (1339/2391)\n",
      "Updating files:  57% (1363/2391)\n",
      "Updating files:  58% (1387/2391)\n",
      "Updating files:  59% (1411/2391)\n",
      "Updating files:  60% (1435/2391)\n",
      "Updating files:  60% (1438/2391)\n",
      "Updating files:  61% (1459/2391)\n",
      "Updating files:  62% (1483/2391)\n",
      "Updating files:  63% (1507/2391)\n",
      "Updating files:  64% (1531/2391)\n",
      "Updating files:  65% (1555/2391)\n",
      "Updating files:  66% (1579/2391)\n",
      "Updating files:  67% (1602/2391)\n",
      "Updating files:  68% (1626/2391)\n",
      "Updating files:  69% (1650/2391)\n",
      "Updating files:  70% (1674/2391)\n",
      "Updating files:  71% (1698/2391)\n",
      "Updating files:  72% (1722/2391)\n",
      "Updating files:  73% (1746/2391)\n",
      "Updating files:  74% (1770/2391)\n",
      "Updating files:  75% (1794/2391)\n",
      "Updating files:  76% (1818/2391)\n",
      "Updating files:  77% (1842/2391)\n",
      "Updating files:  78% (1865/2391)\n",
      "Updating files:  79% (1889/2391)\n",
      "Updating files:  80% (1913/2391)\n",
      "Updating files:  81% (1937/2391)\n",
      "Updating files:  81% (1959/2391)\n",
      "Updating files:  82% (1961/2391)\n",
      "Updating files:  83% (1985/2391)\n",
      "Updating files:  84% (2009/2391)\n",
      "Updating files:  85% (2033/2391)\n",
      "Updating files:  86% (2057/2391)\n",
      "Updating files:  87% (2081/2391)\n",
      "Updating files:  88% (2105/2391)\n",
      "Updating files:  89% (2128/2391)\n",
      "Updating files:  90% (2152/2391)\n",
      "Updating files:  91% (2176/2391)\n",
      "Updating files:  92% (2200/2391)\n",
      "Updating files:  93% (2224/2391)\n",
      "Updating files:  94% (2248/2391)\n",
      "Updating files:  95% (2272/2391)\n",
      "Updating files:  96% (2296/2391)\n",
      "Updating files:  97% (2320/2391)\n",
      "Updating files:  98% (2344/2391)\n",
      "Updating files:  99% (2368/2391)\n",
      "Updating files: 100% (2391/2391)\n",
      "Updating files: 100% (2391/2391), done.\n"
     ]
    }
   ],
   "execution_count": 1
  },
  {
   "metadata": {
    "ExecuteTime": {
     "end_time": "2024-09-27T13:03:34.179146Z",
     "start_time": "2024-09-27T13:03:34.166181Z"
    }
   },
   "cell_type": "code",
   "source": "",
   "id": "dd99fa64cfdececd",
   "outputs": [],
   "execution_count": null
  },
  {
   "metadata": {},
   "cell_type": "code",
   "outputs": [],
   "execution_count": null,
   "source": "",
   "id": "f21558c1e0a46a00"
  },
  {
   "metadata": {},
   "cell_type": "code",
   "outputs": [],
   "execution_count": null,
   "source": "",
   "id": "10750c7ba938ceb6"
  },
  {
   "metadata": {},
   "cell_type": "code",
   "outputs": [],
   "execution_count": null,
   "source": "",
   "id": "bae4c0e941022ef3"
  }
 ],
 "metadata": {
  "kernelspec": {
   "display_name": "du",
   "language": "python",
   "name": "du"
  },
  "language_info": {
   "codemirror_mode": {
    "name": "ipython",
    "version": 2
   },
   "file_extension": ".py",
   "mimetype": "text/x-python",
   "name": "python",
   "nbconvert_exporter": "python",
   "pygments_lexer": "ipython2",
   "version": "2.7.6"
  }
 },
 "nbformat": 4,
 "nbformat_minor": 5
}
